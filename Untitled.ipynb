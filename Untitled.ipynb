{
 "cells": [
  {
   "cell_type": "code",
   "execution_count": 53,
   "metadata": {},
   "outputs": [
    {
     "name": "stdout",
     "output_type": "stream",
     "text": [
      "Match found:  moon 800905-1049118\n",
      "Match found:  moon 800905-1049118\n"
     ]
    }
   ],
   "source": [
    "import re\n",
    "\n",
    "data = \"\"\"\n",
    "moon 800905-1049118\n",
    "kim 700905-1059119\n",
    "\"\"\"\n",
    "\n",
    "pat = re.compile(r\"([a-zA-Z]+)\\s+([0-9]+)[-](\\d+)\")\n",
    "# matches_all = pat.match(\"moon 800905-1049118\")\n",
    "# matches_all = pat.search(data)\n",
    "# matches_all = pat.findall(data)\n",
    "matches_all = pat.finditer(data)\n",
    "\n",
    "if matches_all:\n",
    "    for iter_ in matches_all:\n",
    "        print('Match found: ', m.group())\n",
    "else:\n",
    "    print('No match')\n",
    "\n",
    "print(pat.sub(\"\\g<1> ******-\\g<3>\", data))"
   ]
  },
  {
   "cell_type": "code",
   "execution_count": null,
   "metadata": {},
   "outputs": [],
   "source": []
  }
 ],
 "metadata": {
  "kernelspec": {
   "display_name": "Python 3.7.3 64-bit ('base': conda)",
   "language": "python",
   "name": "python37364bitbasecondafb3f6fd28ace4f7a8dc856c8223ccf32"
  },
  "language_info": {
   "codemirror_mode": {
    "name": "ipython",
    "version": 3
   },
   "file_extension": ".py",
   "mimetype": "text/x-python",
   "name": "python",
   "nbconvert_exporter": "python",
   "pygments_lexer": "ipython3",
   "version": "3.7.3"
  }
 },
 "nbformat": 4,
 "nbformat_minor": 2
}
